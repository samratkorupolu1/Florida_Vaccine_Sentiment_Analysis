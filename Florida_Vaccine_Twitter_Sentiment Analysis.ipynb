{
 "cells": [
  {
   "cell_type": "markdown",
   "metadata": {},
   "source": [
    "# Sentiment Analysis of tweets (Florida vaccination)"
   ]
  },
  {
   "cell_type": "code",
   "execution_count": 89,
   "metadata": {},
   "outputs": [],
   "source": [
    "# pip install tweepy\n",
    "import tweepy\n",
    "import matplotlib.pyplot as plt\n",
    "import seaborn as sns\n",
    "from textblob import TextBlob\n",
    "from textblob.sentiments import NaiveBayesAnalyzer\n",
    "from nltk.sentiment.vader import SentimentIntensityAnalyzer\n",
    "import nltk\n",
    "from string import punctuation\n",
    "from nltk.corpus import stopwords\n",
    "import re\n",
    "import nltk\n",
    "import numpy as np\n",
    "import pandas as pd"
   ]
  },
  {
   "cell_type": "code",
   "execution_count": 2,
   "metadata": {},
   "outputs": [],
   "source": [
    "#Running the python script containing API keys\n",
    "%run C:\\\\Users\\\\samrat\\\\Desktop\\\\US\\\\Spring2021\\\\TextAnalytics\\\\key.ipynb"
   ]
  },
  {
   "cell_type": "code",
   "execution_count": 3,
   "metadata": {},
   "outputs": [],
   "source": [
    "auth = tweepy.OAuthHandler(consumer_api_key, consumer_api_secret_key)\n",
    "auth.set_access_token(access_token, access_token_secret)\n",
    "api = tweepy.API(auth)\n",
    "api = tweepy.API(auth, wait_on_rate_limit=True, wait_on_rate_limit_notify=True)\n",
    "\n",
    "# The last command prints a message and waits if the rate limit is exceeded\n",
    "# Twitter allows 15 requests per application per 15 minutes"
   ]
  },
  {
   "cell_type": "markdown",
   "metadata": {},
   "source": [
    "## Search query = \"florida + vaccine\""
   ]
  },
  {
   "cell_type": "code",
   "execution_count": 4,
   "metadata": {},
   "outputs": [
    {
     "name": "stderr",
     "output_type": "stream",
     "text": [
      "Rate limit reached. Sleeping for: 610\n"
     ]
    },
    {
     "data": {
      "text/plain": [
       "(22760, 5)"
      ]
     },
     "execution_count": 4,
     "metadata": {},
     "output_type": "execute_result"
    }
   ],
   "source": [
    "df = pd.DataFrame(columns=['screen_name', 'name', 'date_time', 'location', 'text'])\n",
    "\n",
    "for tweet in tweepy.Cursor(api.search, q=\"Florida + Vaccine\", count=1000, result_type=\"recent\",\n",
    "                           include_entities=True, lang=\"en\").items():\n",
    "    df = df.append(pd.Series([tweet.user.screen_name, tweet.user.name, tweet.created_at, tweet.user.location, tweet.text], index=df.columns), ignore_index=True)\n",
    "\n",
    "df.shape #query results stored in 'df' dataframe"
   ]
  },
  {
   "cell_type": "code",
   "execution_count": 5,
   "metadata": {},
   "outputs": [
    {
     "data": {
      "text/plain": [
       "Index(['screen_name', 'name', 'date_time', 'location', 'text'], dtype='object')"
      ]
     },
     "execution_count": 5,
     "metadata": {},
     "output_type": "execute_result"
    }
   ],
   "source": [
    "df.columns"
   ]
  },
  {
   "cell_type": "code",
   "execution_count": 6,
   "metadata": {
    "scrolled": true
   },
   "outputs": [
    {
     "data": {
      "text/html": [
       "<div>\n",
       "<style scoped>\n",
       "    .dataframe tbody tr th:only-of-type {\n",
       "        vertical-align: middle;\n",
       "    }\n",
       "\n",
       "    .dataframe tbody tr th {\n",
       "        vertical-align: top;\n",
       "    }\n",
       "\n",
       "    .dataframe thead th {\n",
       "        text-align: right;\n",
       "    }\n",
       "</style>\n",
       "<table border=\"1\" class=\"dataframe\">\n",
       "  <thead>\n",
       "    <tr style=\"text-align: right;\">\n",
       "      <th></th>\n",
       "      <th>text</th>\n",
       "      <th>name</th>\n",
       "      <th>date_time</th>\n",
       "    </tr>\n",
       "  </thead>\n",
       "  <tbody>\n",
       "    <tr>\n",
       "      <td>0</td>\n",
       "      <td>.@greta\\n\\nAnalysis: When COVID-19 vaccines we...</td>\n",
       "      <td>Paradise Gram</td>\n",
       "      <td>2021-03-25 00:01:57</td>\n",
       "    </tr>\n",
       "    <tr>\n",
       "      <td>1</td>\n",
       "      <td>RT @RemoveRon: Gov Ron DeSantis is taking afte...</td>\n",
       "      <td>Melanie Moore</td>\n",
       "      <td>2021-03-25 00:00:10</td>\n",
       "    </tr>\n",
       "    <tr>\n",
       "      <td>2</td>\n",
       "      <td>@newsmax Use the money to stop Johnson &amp;amp;Jo...</td>\n",
       "      <td>Karen E. Durham</td>\n",
       "      <td>2021-03-24 23:57:38</td>\n",
       "    </tr>\n",
       "    <tr>\n",
       "      <td>3</td>\n",
       "      <td>RT @FloridaMedical: The FMA covid-19 vaccine r...</td>\n",
       "      <td>Florida Medical Association</td>\n",
       "      <td>2021-03-24 23:57:12</td>\n",
       "    </tr>\n",
       "    <tr>\n",
       "      <td>4</td>\n",
       "      <td>RT @RemoveRon: Gov Ron DeSantis is taking afte...</td>\n",
       "      <td>Jeri</td>\n",
       "      <td>2021-03-24 23:52:15</td>\n",
       "    </tr>\n",
       "    <tr>\n",
       "      <td>...</td>\n",
       "      <td>...</td>\n",
       "      <td>...</td>\n",
       "      <td>...</td>\n",
       "    </tr>\n",
       "    <tr>\n",
       "      <td>22755</td>\n",
       "      <td>RT @DWUhlfelderLaw: Major donors to South Flor...</td>\n",
       "      <td>Mass Voter</td>\n",
       "      <td>2021-03-17 00:46:40</td>\n",
       "    </tr>\n",
       "    <tr>\n",
       "      <td>22756</td>\n",
       "      <td>RT @nikkifried: Vaccine distribution in Florid...</td>\n",
       "      <td>Rick Helmuth</td>\n",
       "      <td>2021-03-17 00:45:43</td>\n",
       "    </tr>\n",
       "    <tr>\n",
       "      <td>22757</td>\n",
       "      <td>RT @nikkifried: Vaccine distribution in Florid...</td>\n",
       "      <td>Michael L. Kaufman</td>\n",
       "      <td>2021-03-17 00:43:39</td>\n",
       "    </tr>\n",
       "    <tr>\n",
       "      <td>22758</td>\n",
       "      <td>RT @DWUhlfelderLaw: Major donors to South Flor...</td>\n",
       "      <td>hopelessforkindess</td>\n",
       "      <td>2021-03-17 00:43:34</td>\n",
       "    </tr>\n",
       "    <tr>\n",
       "      <td>22759</td>\n",
       "      <td>RT @nikkifried: Vaccine distribution in Florid...</td>\n",
       "      <td>GreenThumb2013</td>\n",
       "      <td>2021-03-17 00:43:16</td>\n",
       "    </tr>\n",
       "  </tbody>\n",
       "</table>\n",
       "<p>22760 rows × 3 columns</p>\n",
       "</div>"
      ],
      "text/plain": [
       "                                                    text  \\\n",
       "0      .@greta\\n\\nAnalysis: When COVID-19 vaccines we...   \n",
       "1      RT @RemoveRon: Gov Ron DeSantis is taking afte...   \n",
       "2      @newsmax Use the money to stop Johnson &amp;Jo...   \n",
       "3      RT @FloridaMedical: The FMA covid-19 vaccine r...   \n",
       "4      RT @RemoveRon: Gov Ron DeSantis is taking afte...   \n",
       "...                                                  ...   \n",
       "22755  RT @DWUhlfelderLaw: Major donors to South Flor...   \n",
       "22756  RT @nikkifried: Vaccine distribution in Florid...   \n",
       "22757  RT @nikkifried: Vaccine distribution in Florid...   \n",
       "22758  RT @DWUhlfelderLaw: Major donors to South Flor...   \n",
       "22759  RT @nikkifried: Vaccine distribution in Florid...   \n",
       "\n",
       "                              name           date_time  \n",
       "0                    Paradise Gram 2021-03-25 00:01:57  \n",
       "1                    Melanie Moore 2021-03-25 00:00:10  \n",
       "2                  Karen E. Durham 2021-03-24 23:57:38  \n",
       "3      Florida Medical Association 2021-03-24 23:57:12  \n",
       "4                             Jeri 2021-03-24 23:52:15  \n",
       "...                            ...                 ...  \n",
       "22755                   Mass Voter 2021-03-17 00:46:40  \n",
       "22756                 Rick Helmuth 2021-03-17 00:45:43  \n",
       "22757           Michael L. Kaufman 2021-03-17 00:43:39  \n",
       "22758           hopelessforkindess 2021-03-17 00:43:34  \n",
       "22759               GreenThumb2013 2021-03-17 00:43:16  \n",
       "\n",
       "[22760 rows x 3 columns]"
      ]
     },
     "execution_count": 6,
     "metadata": {},
     "output_type": "execute_result"
    }
   ],
   "source": [
    "df[['text', 'name', 'date_time']]"
   ]
  },
  {
   "cell_type": "code",
   "execution_count": 62,
   "metadata": {},
   "outputs": [],
   "source": [
    "#df.to_csv('florida_vaccine_analysis.csv',index=False,encoding='utf-8')"
   ]
  },
  {
   "cell_type": "markdown",
   "metadata": {},
   "source": [
    "## Cleaning of tweet corpus"
   ]
  },
  {
   "cell_type": "code",
   "execution_count": 30,
   "metadata": {},
   "outputs": [],
   "source": [
    "blobs = []                #This list holds the cleaned tweets\n",
    "\n",
    "for i in range(len(df)):\n",
    "    tweet = df['text'][i]\n",
    "    tweet = tweet.strip(punctuation).lower()\n",
    "    tweet = re.sub(r'http\\S+', ' ', tweet)\n",
    "    tweet = re.sub(r'@\\S+', ' ', tweet)\n",
    "    tweet = re.sub(r'#', '', tweet)\n",
    "    tweet = re.sub(r'[^a-z]+', ' ', tweet)\n",
    "    tweet = re.sub(r'rt', ' ', tweet)\n",
    "    \n",
    "    blobs.append(tweet)"
   ]
  },
  {
   "cell_type": "markdown",
   "metadata": {},
   "source": [
    "## Model 1 : TextBlob"
   ]
  },
  {
   "cell_type": "code",
   "execution_count": 48,
   "metadata": {},
   "outputs": [],
   "source": [
    "polarity = []\n",
    "subjectivity = []\n",
    "\n",
    "for i in range(len(blobs)):\n",
    "    xyz = TextBlob(blobs[i])\n",
    "    polarity.append(xyz.sentiment.polarity)\n",
    "    subjectivity.append(xyz.sentiment.subjectivity)"
   ]
  },
  {
   "cell_type": "code",
   "execution_count": 50,
   "metadata": {},
   "outputs": [],
   "source": [
    "df['Polarity'] = polarity\n",
    "df['subjectivity'] = subjectivity"
   ]
  },
  {
   "cell_type": "code",
   "execution_count": 55,
   "metadata": {
    "scrolled": true
   },
   "outputs": [
    {
     "data": {
      "text/plain": [
       "0.07684558465907082"
      ]
     },
     "execution_count": 55,
     "metadata": {},
     "output_type": "execute_result"
    }
   ],
   "source": [
    "df['Polarity'].mean()"
   ]
  },
  {
   "cell_type": "markdown",
   "metadata": {},
   "source": [
    "## Model 2 : Vader"
   ]
  },
  {
   "cell_type": "code",
   "execution_count": 60,
   "metadata": {
    "scrolled": true
   },
   "outputs": [
    {
     "data": {
      "image/png": "[encoded data removed]",
      "text/plain": [
       "<Figure size 432x288 with 1 Axes>"
      ]
     },
     "metadata": {
      "needs_background": "light"
     },
     "output_type": "display_data"
    }
   ],
   "source": [
    "analyzer = SentimentIntensityAnalyzer()\n",
    "sentiment = {}\n",
    "pol = [0]*len(df)\n",
    "    \n",
    "for i in range(len(df)):\n",
    "    tweet = df['text'][i]\n",
    "    sentiment[i] = analyzer.polarity_scores(tweet)\n",
    "    pol[i] = sentiment[i]['compound']\n",
    "df['Polarity_1'] = pol"
   ]
  },
  {
   "cell_type": "markdown",
   "metadata": {},
   "source": [
    "## Results"
   ]
  },
  {
   "cell_type": "code",
   "execution_count": 138,
   "metadata": {},
   "outputs": [
    {
     "name": "stdout",
     "output_type": "stream",
     "text": [
      "Model 1 : TextBlob\n"
     ]
    },
    {
     "data": {
      "image/png": "[encoded data removed]",
      "text/plain": [
       "<Figure size 432x288 with 1 Axes>"
      ]
     },
     "metadata": {
      "needs_background": "light"
     },
     "output_type": "display_data"
    },
    {
     "name": "stdout",
     "output_type": "stream",
     "text": [
      "Total Tweets : 22760\n",
      "Neutral Tweets : 8389\n",
      "Positive Tweets : 10776\n",
      "Negative Tweets : 3595\n"
     ]
    }
   ],
   "source": [
    "print('Model 1 : TextBlob')\n",
    "df['Polarity'].hist(bins=20)\n",
    "plt.title('Sentiment Histogram')\n",
    "plt.xlabel('Sentiment Polarity Model 1')\n",
    "plt.show()\n",
    "print('Total Tweets : ' + str(len(df)))\n",
    "print('Neutral Tweets : ' + str((df['Polarity'] == 0).sum()))\n",
    "print('Positive Tweets : ' + str((df['Polarity'] > 0).sum()))\n",
    "print('Negative Tweets : ' + str((df['Polarity'] < 0).sum()))"
   ]
  },
  {
   "cell_type": "code",
   "execution_count": 137,
   "metadata": {
    "scrolled": true
   },
   "outputs": [
    {
     "name": "stdout",
     "output_type": "stream",
     "text": [
      "Model 2 : Vader\n"
     ]
    },
    {
     "data": {
      "image/png": "[encoded data removed]",
      "text/plain": [
       "<Figure size 432x288 with 1 Axes>"
      ]
     },
     "metadata": {
      "needs_background": "light"
     },
     "output_type": "display_data"
    },
    {
     "name": "stdout",
     "output_type": "stream",
     "text": [
      "Total Tweets : 22760\n",
      "Neutral Tweets : 9028\n",
      "Positive Tweets : 9082\n",
      "Negative Tweets : 4650\n"
     ]
    }
   ],
   "source": [
    "print('Model 2 : Vader')\n",
    "df['Polarity_1'].hist(bins=20)\n",
    "plt.title('Sentiment Histogram')\n",
    "plt.xlabel('Sentiment Polarity Model 2')\n",
    "plt.show()\n",
    "print('Total Tweets : ' + str(len(df)))\n",
    "print('Neutral Tweets : ' + str((df['Polarity_1'] == 0).sum()))\n",
    "print('Positive Tweets : ' + str((df['Polarity_1'] > 0).sum()))\n",
    "print('Negative Tweets : ' + str((df['Polarity_1'] < 0).sum()))"
   ]
  },
  {
   "cell_type": "markdown",
   "metadata": {},
   "source": [
    "## Sample neutral"
   ]
  },
  {
   "cell_type": "code",
   "execution_count": 134,
   "metadata": {},
   "outputs": [
    {
     "data": {
      "text/plain": [
       "{'neg': 0.0, 'neu': 1.0, 'pos': 0.0, 'compound': 0.0}"
      ]
     },
     "execution_count": 134,
     "metadata": {},
     "output_type": "execute_result"
    }
   ],
   "source": [
    "sentiment = analyzer.polarity_scores('do you think florida should open eligibility for the covid vaccine to all adults')\n",
    "sentiment"
   ]
  },
  {
   "cell_type": "markdown",
   "metadata": {},
   "source": [
    "## Sample negative"
   ]
  },
  {
   "cell_type": "code",
   "execution_count": 128,
   "metadata": {},
   "outputs": [
    {
     "data": {
      "text/plain": [
       "{'neg': 0.297, 'neu': 0.703, 'pos': 0.0, 'compound': -0.5859}"
      ]
     },
     "execution_count": 128,
     "metadata": {},
     "output_type": "execute_result"
    }
   ],
   "source": [
    "sentiment = analyzer.polarity_scores('wtf i live in florida and still cannot get the vaccine')\n",
    "sentiment"
   ]
  },
  {
   "cell_type": "markdown",
   "metadata": {},
   "source": [
    "## Sample positive"
   ]
  },
  {
   "cell_type": "code",
   "execution_count": 135,
   "metadata": {},
   "outputs": [
    {
     "data": {
      "text/plain": [
       "{'neg': 0.0, 'neu': 0.812, 'pos': 0.188, 'compound': 0.5719}"
      ]
     },
     "execution_count": 135,
     "metadata": {},
     "output_type": "execute_result"
    }
   ],
   "source": [
    "sentiment = analyzer.polarity_scores('i am happy to say as a year old resident of florida i received my first moderna vaccine this morning ')\n",
    "sentiment"
   ]
  }
 ],
 "metadata": {
  "kernelspec": {
   "display_name": "Python 3",
   "language": "python",
   "name": "python3"
  },
  "language_info": {
   "codemirror_mode": {
    "name": "ipython",
    "version": 3
   },
   "file_extension": ".py",
   "mimetype": "text/x-python",
   "name": "python",
   "nbconvert_exporter": "python",
   "pygments_lexer": "ipython3",
   "version": "3.7.4"
  }
 },
 "nbformat": 4,
 "nbformat_minor": 2
}
